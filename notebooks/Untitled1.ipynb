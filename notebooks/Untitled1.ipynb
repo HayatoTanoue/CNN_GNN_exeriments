{
 "cells": [
  {
   "cell_type": "code",
   "execution_count": 2,
   "id": "2da3c7df",
   "metadata": {},
   "outputs": [
    {
     "ename": "NameError",
     "evalue": "name 's' is not defined",
     "output_type": "error",
     "traceback": [
      "\u001b[0;31m---------------------------------------------------------------------------\u001b[0m",
      "\u001b[0;31mNameError\u001b[0m                                 Traceback (most recent call last)",
      "\u001b[0;32m<ipython-input-2-681c3ef571ac>\u001b[0m in \u001b[0;36m<module>\u001b[0;34m\u001b[0m\n\u001b[1;32m     17\u001b[0m \u001b[0;34m\u001b[0m\u001b[0m\n\u001b[1;32m     18\u001b[0m \u001b[0;34m\u001b[0m\u001b[0m\n\u001b[0;32m---> 19\u001b[0;31m \u001b[0mgin_conv\u001b[0m \u001b[0;34m=\u001b[0m \u001b[0mGINConv\u001b[0m\u001b[0;34m(\u001b[0m\u001b[0ms\u001b[0m\u001b[0;34m,\u001b[0m \u001b[0;36m0\u001b[0m\u001b[0;34m)\u001b[0m\u001b[0;34m\u001b[0m\u001b[0;34m\u001b[0m\u001b[0m\n\u001b[0m\u001b[1;32m     20\u001b[0m \u001b[0mgin_conv\u001b[0m\u001b[0;34m(\u001b[0m\u001b[0mdata1\u001b[0m\u001b[0;34m.\u001b[0m\u001b[0mx\u001b[0m\u001b[0;34m,\u001b[0m \u001b[0mdata1\u001b[0m\u001b[0;34m.\u001b[0m\u001b[0medge_index\u001b[0m\u001b[0;34m)\u001b[0m\u001b[0;34m[\u001b[0m\u001b[0;36m1\u001b[0m\u001b[0;34m]\u001b[0m\u001b[0;34m\u001b[0m\u001b[0;34m\u001b[0m\u001b[0m\n\u001b[1;32m     21\u001b[0m \u001b[0;34m\u001b[0m\u001b[0m\n",
      "\u001b[0;31mNameError\u001b[0m: name 's' is not defined"
     ]
    }
   ],
   "source": [
    "# GIN conv の単射性の確認\n",
    "import torch\n",
    "import networkx as nx\n",
    "\n",
    "from torch_geometric.nn.conv.gin_conv import GINConv\n",
    "from torch_geometric.utils import from_networkx\n",
    "\n",
    "G = nx.Graph()\n",
    "G.add_edges_from([(0,1), (1,2), (1,3)])\n",
    "data1 = from_networkx(G)\n",
    "data1.x = torch.tensor([[1.],[1.],[1.],[1.]])\n",
    "\n",
    "G = nx.Graph()\n",
    "G.add_edges_from([(0,1), (1,2)])\n",
    "data2 = from_networkx(G)\n",
    "data2.x = torch.tensor([[1.],[1.],[2.]])\n",
    "\n",
    "\n",
    "gin_conv = GINConv(s, 0)\n",
    "gin_conv(data1.x, data1.edge_index)[1]\n",
    "\n",
    "gin_conv(data2.x, data2.edge_index)[1]"
   ]
  },
  {
   "cell_type": "code",
   "execution_count": null,
   "id": "a7aed2d1",
   "metadata": {},
   "outputs": [],
   "source": []
  }
 ],
 "metadata": {
  "kernelspec": {
   "display_name": "Python 3",
   "language": "python",
   "name": "python3"
  },
  "language_info": {
   "codemirror_mode": {
    "name": "ipython",
    "version": 3
   },
   "file_extension": ".py",
   "mimetype": "text/x-python",
   "name": "python",
   "nbconvert_exporter": "python",
   "pygments_lexer": "ipython3",
   "version": "3.8.8"
  }
 },
 "nbformat": 4,
 "nbformat_minor": 5
}
