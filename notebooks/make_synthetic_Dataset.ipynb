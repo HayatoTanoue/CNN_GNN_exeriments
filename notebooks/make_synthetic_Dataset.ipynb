{
 "cells": [
  {
   "cell_type": "markdown",
   "id": "7045e4da",
   "metadata": {},
   "source": [
    "# 合成データセット作り直し\n",
    "\n",
    "## 共通事項\n",
    "- 各クラス1500個 データ作成\n",
    "- 4class : 0_BA, 1_Attach, 2_Growth, 3: Random\n",
    "\n",
    "## 保存すること\n",
    "- パラメータ保存\n",
    "- ネットワーク保存\n",
    "- ネットワーク特徴量保存\n",
    "- 画像保存 (shuffle, sort)\n",
    "- geometric tensor 保存"
   ]
  },
  {
   "cell_type": "code",
   "execution_count": 1,
   "id": "59a155cd",
   "metadata": {},
   "outputs": [],
   "source": [
    "import os\n",
    "import torch\n",
    "import numpy as np\n",
    "import pandas as pd\n",
    "import seaborn as sns\n",
    "import networkx as nx\n",
    "import matplotlib.pyplot as plt\n",
    "from tqdm import tqdm\n",
    "from torch_geometric.utils import from_networkx\n",
    "from test_utils import network_info\n",
    "from reserch_utils_HT import network_to_image\n",
    "from reserch_utils_HT import no_growth, no_preferential_attachment"
   ]
  },
  {
   "cell_type": "code",
   "execution_count": 2,
   "id": "ce903568",
   "metadata": {},
   "outputs": [],
   "source": [
    "def make_save_folder(dataset_name, kind):\n",
    "    \"\"\" 保存先フォルダ作成 \"\"\"\n",
    "    kind_to_name = {\"BA\": \"0_BA\", \"Attach\": \"1_Attach\", \"Growth\": \"2_Growth\", \"Random\": \"3_Random\"}\n",
    "    # graph\n",
    "    os.makedirs(f\"../graph_data/{dataset_name}/graph/{kind_to_name[kind]}\", exist_ok=True)       \n",
    "    # image\n",
    "    os.makedirs(f\"../graph_data/{dataset_name}/shuffle/pics/{kind_to_name[kind]}\", exist_ok=True)\n",
    "    os.makedirs(f\"../graph_data/{dataset_name}/sort/pics/{kind_to_name[kind]}\", exist_ok=True)\n",
    "    # graph tensor\n",
    "    os.makedirs(f\"../graph_data/{dataset_name}/graph_tensor/edge\", exist_ok=True)\n",
    "    os.makedirs(f\"../graph_data/{dataset_name}/graph_tensor/x\", exist_ok=True)\n",
    "    os.makedirs(f\"../graph_data/{dataset_name}/graph_tensor/y\", exist_ok=True)\n",
    "    \n",
    "\n",
    "def make_net_img(kind, node, parameter, seed):\n",
    "    \"\"\" グラフ生成 & 画像化 \"\"\"\n",
    "    # generate graph\n",
    "    if kind == \"BA\":\n",
    "        G = nx.barabasi_albert_graph(node, parameter, seed=seed)\n",
    "    elif kind == \"Attach\":\n",
    "        G = no_growth(node, parameter, seed=seed)\n",
    "    elif kind == \"Growth\":\n",
    "        G = no_preferential_attachment(node, parameter, seed=seed)\n",
    "    else:\n",
    "        G = nx.gnp_random_graph(node, parameter, seed=seed)\n",
    "    # network to image\n",
    "    shuffle_img = network_to_image(G, shuffle=True)\n",
    "    sort_img = network_to_image(G, sort=True)\n",
    "    return G, shuffle_img, sort_img\n",
    "\n",
    "def graph_to_geometricTensor(G, kind):\n",
    "    \"\"\" graph -> GNN用データ 変換\"\"\"\n",
    "    kind_to_label = {\"BA\": 0, \"Attach\": 1, \"Growth\": 2, \"Random\": 3}\n",
    "    # graph to torch geometric data\n",
    "    data = from_networkx(G)\n",
    "\n",
    "    # set node attribute\n",
    "    data.x = torch.tensor(\n",
    "        [[d] for d in list(dict(G.degree()).values())],\n",
    "        dtype=torch.float,\n",
    "    )\n",
    "    # set graph label\n",
    "    data.y = torch.tensor([kind_to_label[kind]])\n",
    "    return data\n",
    "\n",
    "def make_save(kind, node, parameter, seed, dataset_name):\n",
    "    \"\"\" 各種生成から保存まで \"\"\"\n",
    "    kind_to_name = {\"BA\": \"0_BA\", \"Attach\": \"1_Attach\", \"Growth\": \"2_Growth\", \"Random\": \"3_Random\"}\n",
    "    \n",
    "    pls_num = {\"BA\": 0, \"Attach\": 1000, \"Growth\": 2000, \"Random\": 3000}\n",
    "    \n",
    "    G, shuffle_img, sort_img = make_net_img(kind, node, parameter, seed)\n",
    "    # graph save\n",
    "    nx.write_adjlist(G, f\"../graph_data/{dataset_name}/graph/{kind_to_name[kind]}/{seed}.adjlist\")\n",
    "    # image save\n",
    "    shuffle_img.save(f\"../graph_data/{dataset_name}/shuffle/pics/{kind_to_name[kind]}/{seed}.png\")\n",
    "    sort_img.save(f\"../graph_data/{dataset_name}/sort/pics/{kind_to_name[kind]}/{seed}.png\")\n",
    "    # tensor save\n",
    "    data_tensor = graph_to_geometricTensor(G, kind)\n",
    "    torch.save(data_tensor.edge_index, f\"../graph_data/{dataset_name}/graph_tensor/edge/{seed+pls_num[kind]}.pt\")\n",
    "    torch.save(data_tensor.x, f\"../graph_data/{dataset_name}/graph_tensor/x/{seed+pls_num[kind]}.pt\")    \n",
    "    torch.save(data_tensor.y, f\"../graph_data/{dataset_name}/graph_tensor/y/{seed+pls_num[kind]}.pt\")\n",
    "    \n",
    "    info = network_info(G)\n",
    "    info[\"kind\"] = kind\n",
    "    info[\"parameter\"] = parameter\n",
    "    info[\"node\"] = node\n",
    "    info[\"seed\"] = seed\n",
    "    \n",
    "    return info"
   ]
  },
  {
   "cell_type": "markdown",
   "id": "80c5448f",
   "metadata": {},
   "source": [
    "# Subset\n",
    "ノード数100固定\n",
    "\n",
    "各クラス内のエッジ数が同程度のデータセット  \n",
    "-> パラメータを固定して同程度にする\n",
    "\n",
    "### parameters\n",
    "- (BA, Attach, Growth, Random) = (2, 200, 2, 0.04)"
   ]
  },
  {
   "cell_type": "code",
   "execution_count": 3,
   "id": "0cb0ff05",
   "metadata": {},
   "outputs": [
    {
     "name": "stderr",
     "output_type": "stream",
     "text": [
      "100%|██████████| 1000/1000 [00:15<00:00, 62.63it/s]\n",
      "100%|██████████| 1000/1000 [00:38<00:00, 25.73it/s]\n",
      "100%|██████████| 1000/1000 [00:20<00:00, 49.05it/s]\n",
      "100%|██████████| 1000/1000 [00:09<00:00, 107.48it/s]\n"
     ]
    }
   ],
   "source": [
    "dataset_name = \"subset1\"\n",
    "node = 100\n",
    "\n",
    "df = pd.DataFrame() # dataset info 保存用\n",
    "cnt = 0\n",
    "# BA\n",
    "make_save_folder(dataset_name, \"BA\")\n",
    "for i in tqdm(range(1000)):\n",
    "    info = make_save(\"BA\", node, 2, i, dataset_name)\n",
    "    df = df.append(pd.Series(info, name=cnt))\n",
    "    cnt += 1\n",
    "# Attach\n",
    "make_save_folder(dataset_name, \"Attach\")\n",
    "for i in tqdm(range(1000)):\n",
    "    info = make_save(\"Attach\", node, 200, i, dataset_name)\n",
    "    df = df.append(pd.Series(info, name=cnt))\n",
    "    cnt += 1\n",
    "# Growth\n",
    "make_save_folder(dataset_name, \"Growth\")\n",
    "for i in tqdm(range(1000)):\n",
    "    info = make_save(\"Growth\", node, 2, i, dataset_name)\n",
    "    df = df.append(pd.Series(info, name=cnt))\n",
    "    cnt += 1\n",
    "# Random\n",
    "make_save_folder(dataset_name, \"Random\")\n",
    "for i in tqdm(range(1000)):\n",
    "    info = make_save(\"Random\", node, 0.04, i, dataset_name)\n",
    "    df = df.append(pd.Series(info, name=cnt))\n",
    "    cnt += 1\n",
    "\n",
    "df.to_csv(f\"../graph_data/{dataset_name}/data_info.csv\")"
   ]
  },
  {
   "cell_type": "code",
   "execution_count": null,
   "id": "88320797",
   "metadata": {},
   "outputs": [],
   "source": []
  },
  {
   "cell_type": "markdown",
   "id": "d1036c1a",
   "metadata": {},
   "source": [
    "# Poisson\n",
    "パラメータだけ乱数により生成\n",
    "ノード数100固定\n",
    "\n",
    "## parameter setting\n",
    "- BA : $2\\leq m \\leq 10$, 平均 5, 分散 1 の正規分布から生成\n",
    "- Attach : $1*node \\leq step \\leq 10*node$ 平均 5, 分散 1 の正規分布から生成\n",
    "- Growth : $2\\leq m \\leq 10$, 平均 5, 分散 1 の正規分布から生成\n",
    "- Random : $0.04\\leq p \\leq 0.18$ 平均 0.1 分散 0.02 の正規分布から生成"
   ]
  },
  {
   "cell_type": "code",
   "execution_count": 3,
   "id": "967d9c80",
   "metadata": {},
   "outputs": [],
   "source": [
    "# parameter list 作成\n",
    "p_rand = np.random.normal(0.1, 0.02, 1000)\n",
    "param = np.random.normal(5, 1, 10000).astype(int)\n",
    "ba_rand =[]\n",
    "for m in param:\n",
    "    if 2 <= m <= 10:\n",
    "        ba_rand.append(m)\n",
    "    if len(ba_rand) == 1000:\n",
    "        break\n",
    "        \n",
    "param = np.random.normal(5, 1, 10000).astype(int)\n",
    "growth_rand =[]\n",
    "for m in param:\n",
    "    if 2 <= m <= 10:\n",
    "        growth_rand.append(m)\n",
    "    if len(growth_rand) == 1000:\n",
    "        break\n",
    "\n",
    "param = np.random.normal(5, 1, 10000).astype(int)\n",
    "step_rand =[]\n",
    "for m in param:\n",
    "    if 1 <= m <= 10:\n",
    "        step_rand.append(m)\n",
    "    if len(step_rand) == 1000:\n",
    "        break"
   ]
  },
  {
   "cell_type": "code",
   "execution_count": 4,
   "id": "a319d8ad",
   "metadata": {},
   "outputs": [
    {
     "data": {
      "image/png": "[encoded data removed]",
      "text/plain": [
       "<Figure size 864x288 with 3 Axes>"
      ]
     },
     "metadata": {
      "needs_background": "light"
     },
     "output_type": "display_data"
    }
   ],
   "source": [
    "# エッジ分布 確認\n",
    "fig, axes = plt.subplots(1,3, figsize=(12, 4))\n",
    "axes[0].hist([nx.number_of_edges(nx.barabasi_albert_graph(100, p)) for p in ba_rand], bins=20)\n",
    "axes[0].set_title(\"BA\")\n",
    "axes[1].hist([nx.number_of_edges(nx.gnp_random_graph(100, p)) for p in p_rand], bins=20)\n",
    "axes[1].set_title(\"Random\")\n",
    "axes[2].hist([nx.number_of_edges(no_growth(100, 100*p)) for p in step_rand], bins=20)\n",
    "axes[2].set_title(\"Attach\")\n",
    "\n",
    "for i in range(3):\n",
    "    axes[i].set_xlim(180, 800)\n",
    "\n",
    "plt.show()"
   ]
  },
  {
   "cell_type": "code",
   "execution_count": 8,
   "id": "4ec9db9f",
   "metadata": {},
   "outputs": [
    {
     "data": {
      "text/plain": [
       "1000    5.0\n",
       "1001    3.0\n",
       "1002    5.0\n",
       "1003    5.0\n",
       "1004    5.0\n",
       "       ... \n",
       "1995    6.0\n",
       "1996    4.0\n",
       "1997    4.0\n",
       "1998    3.0\n",
       "1999    5.0\n",
       "Name: parameter, Length: 1000, dtype: float64"
      ]
     },
     "execution_count": 8,
     "metadata": {},
     "output_type": "execute_result"
    }
   ],
   "source": [
    "df.query(\"kind=='Attach'\").parameter"
   ]
  },
  {
   "cell_type": "code",
   "execution_count": 9,
   "id": "89e3fb69",
   "metadata": {},
   "outputs": [
    {
     "name": "stderr",
     "output_type": "stream",
     "text": [
      "1000it [00:18, 53.81it/s]\n",
      "1000it [01:30, 11.04it/s]\n",
      "1000it [00:25, 38.90it/s]\n",
      "1000it [00:19, 50.44it/s]\n"
     ]
    }
   ],
   "source": [
    "dataset_name = \"poisson\"\n",
    "node = 100\n",
    "\n",
    "df = pd.DataFrame() # dataset info 保存用\n",
    "cnt = 0\n",
    "# BA\n",
    "for kind in [\"BA\", \"Attach\", \"Growth\", \"Random\"]:\n",
    "    params = {\"BA\": ba_rand, \"Attach\": step_rand, \"Growth\": growth_rand, \"Random\": p_rand}\n",
    "    make_save_folder(dataset_name, kind)\n",
    "    for i, p in tqdm(enumerate(params[kind])):\n",
    "        if kind == \"Attach\":\n",
    "            info = make_save(kind, node, p*100, i, dataset_name)\n",
    "        else:\n",
    "            info = make_save(kind, node, p, i, dataset_name)\n",
    "        df = df.append(pd.Series(info, name=cnt))\n",
    "        cnt += 1\n",
    "\n",
    "df.to_csv(f\"../graph_data/poisson/data_info.csv\")"
   ]
  },
  {
   "cell_type": "markdown",
   "id": "d24b0a84",
   "metadata": {},
   "source": [
    "# new poisson\n",
    "ノード数, パラメータともに乱数により決定\n",
    "## parameter settings\n",
    "\n",
    "### new poisson\n",
    "- ノード数 : 平均 100, 分散 10, 正規分布\n",
    "- BA : $2\\leq m \\leq 10$, 平均 5, 分散 1 の正規分布から生成\n",
    "- Attach : $1*node \\leq step \\leq 10*node$ 平均 2, 分散 1 の正規分布から生成\n",
    "- Growth : $2\\leq m \\leq 10$, 平均 5, 分散 1 の正規分布から生成\n",
    "- Random : $0.04\\leq p \\leq 0.18$ 平均 0.1 分散 0.02 の正規分布から生成\n",
    "\n",
    "### new_pareto\n",
    "- ノード数 : shape 2, scale 30 パレート分布\n",
    "- BA : $2\\leq m \\leq 10$, 平均 5, 分散 1 の正規分布から生成\n",
    "- Attach : $1*node \\leq step \\leq 10*node$ 平均 2, 分散 1 の正規分布から生成\n",
    "- Growth : $2\\leq m \\leq 10$, 平均 5, 分散 1 の正規分布から生成\n",
    "- Random : $0.04\\leq p \\leq 0.18$ 平均 0.1 分散 0.02 の正規分布から生成"
   ]
  },
  {
   "cell_type": "code",
   "execution_count": 42,
   "id": "3cc2f37c",
   "metadata": {},
   "outputs": [
    {
     "data": {
      "image/png": "[encoded data removed]",
      "text/plain": [
       "<Figure size 432x288 with 1 Axes>"
      ]
     },
     "metadata": {
      "needs_background": "light"
     },
     "output_type": "display_data"
    }
   ],
   "source": [
    "rand_exp_scale = 10.0\n",
    "rand_exp_size = 10000\n",
    "rand_exp = np.random.exponential(scale=rand_exp_scale, size=rand_exp_size)\n",
    "\n",
    "plt.hist(rand_exp, bins=np.logspace(0, 3, 50))\n",
    "# plt.xscale(\"log\")\n",
    "# plt.yscale(\"log\")\n",
    "\n",
    "plt.show()"
   ]
  },
  {
   "cell_type": "code",
   "execution_count": 77,
   "id": "4d3e7d21",
   "metadata": {},
   "outputs": [
    {
     "data": {
      "image/png": "[encoded data removed]",
      "text/plain": [
       "<Figure size 432x288 with 1 Axes>"
      ]
     },
     "metadata": {
      "needs_background": "light"
     },
     "output_type": "display_data"
    }
   ],
   "source": [
    "a, m = 2., 30.  # 分布の幅と、モードを指定   \n",
    "s = (np.random.pareto(a, 2090) + 1) * m\n",
    "plt.hist(s, bins=np.logspace(0, 4, 50))\n",
    "plt.xscale(\"log\")\n",
    "plt.yscale(\"log\")\n",
    "\n",
    "plt.show()"
   ]
  },
  {
   "cell_type": "code",
   "execution_count": 68,
   "id": "71d7f62e",
   "metadata": {},
   "outputs": [
    {
     "data": {
      "text/plain": [
       "array([31.51500134, 41.89030232, 56.97604259, ..., 32.5093487 ,\n",
       "       47.5561703 , 67.02782936])"
      ]
     },
     "execution_count": 68,
     "metadata": {},
     "output_type": "execute_result"
    }
   ],
   "source": [
    "s"
   ]
  },
  {
   "cell_type": "code",
   "execution_count": 7,
   "id": "2039f000",
   "metadata": {},
   "outputs": [],
   "source": [
    "# parameter list 作成\n",
    "\n",
    "node_list = np.random.normal(100, 30, 2000).astype(int)\n",
    "p_rand = np.random.normal(0.1, 0.02, 1000)\n",
    "param = np.random.normal(5, 1, 10000).astype(int)\n",
    "\n",
    "# BA\n",
    "ba_rand =[]\n",
    "for n, m in zip(node_list, param):\n",
    "    if 2 <= m <= 10:\n",
    "        if 10 < n:\n",
    "            ba_rand.append((n, m))\n",
    "    if len(ba_rand) == 1000:\n",
    "        break\n",
    "\n",
    "# Growth\n",
    "node_list = np.random.normal(100, 30, 2000).astype(int)\n",
    "param = np.random.normal(5, 1, 10000).astype(int)\n",
    "growth_rand =[]\n",
    "for n, m in zip(node_list, param):\n",
    "    if 2 <= m <= 10:\n",
    "        if 10 < n:\n",
    "            growth_rand.append((n, m))\n",
    "    if len(growth_rand) == 1000:\n",
    "        break\n",
    "\n",
    "# Attach\n",
    "node_list = np.random.normal(100, 30, 2000).astype(int)\n",
    "param = np.random.normal(5, 1, 10000).astype(int)\n",
    "step_rand =[]\n",
    "for n, m in zip(node_list, param):\n",
    "    if 1 <= m <= 10:\n",
    "        if 10 < n:\n",
    "            step_rand.append((n,m*n))\n",
    "    if len(step_rand) == 1000:\n",
    "        break\n",
    "\n",
    "# Random\n",
    "node_list = np.random.normal(100, 30, 2000).astype(int)\n",
    "p_rand = np.random.normal(0.1, 0.02, 2000)\n",
    "random_rand =[]\n",
    "for n, m in zip(node_list, p_rand):\n",
    "    if 10 < n:\n",
    "        random_rand.append((n,m))\n",
    "    if len(random_rand) == 1000:\n",
    "        break"
   ]
  },
  {
   "cell_type": "code",
   "execution_count": 8,
   "id": "5f0601b5",
   "metadata": {},
   "outputs": [
    {
     "name": "stderr",
     "output_type": "stream",
     "text": [
      "1000it [00:18, 53.67it/s]\n",
      "1000it [01:35, 10.52it/s]\n",
      "1000it [00:25, 38.87it/s]\n",
      "1000it [00:20, 48.23it/s]\n"
     ]
    }
   ],
   "source": [
    "dataset_name = \"new_poisson\"\n",
    "\n",
    "df = pd.DataFrame() # dataset info 保存用\n",
    "cnt = 0\n",
    "# BA\n",
    "for kind in [\"BA\", \"Attach\", \"Growth\", \"Random\"]:\n",
    "    params = {\"BA\": ba_rand, \"Attach\": step_rand, \"Growth\": growth_rand, \"Random\": random_rand}\n",
    "    make_save_folder(dataset_name, kind)\n",
    "    for i, (n, p) in tqdm(enumerate(params[kind])):\n",
    "        info = make_save(kind, n, p, i, dataset_name)\n",
    "            \n",
    "        df = df.append(pd.Series(info, name=cnt))\n",
    "        cnt += 1\n",
    "\n",
    "df.to_csv(f\"../graph_data/{dataset_name}/data_info.csv\")"
   ]
  },
  {
   "cell_type": "code",
   "execution_count": 78,
   "id": "dc435769",
   "metadata": {},
   "outputs": [
    {
     "name": "stderr",
     "output_type": "stream",
     "text": [
      "1000it [01:12, 13.88it/s]\n",
      "1000it [00:58, 17.20it/s]\n",
      "1000it [00:16, 60.03it/s]\n",
      "1000it [00:18, 53.14it/s]\n"
     ]
    }
   ],
   "source": [
    "# parete\n",
    "a, m = 2., 30.  # 分布の幅と、モードを指定   \n",
    "\n",
    "s = (np.random.pareto(a, 5000) + 1) * m\n",
    "# parameter list 作成\n",
    "node_list = s.astype(int)\n",
    "p_rand = np.random.normal(0.1, 0.02, 1000)\n",
    "param = np.random.normal(5, 1, 10000).astype(int)\n",
    "\n",
    "# BA\n",
    "ba_rand =[]\n",
    "for n, m in zip(node_list, param):\n",
    "    if 2 <= m <= 10:\n",
    "        if 10 < n:\n",
    "            ba_rand.append((n, m))\n",
    "    if len(ba_rand) == 1000:\n",
    "        break\n",
    "\n",
    "a, m = 2., 30.  # 分布の幅と、モードを指定   \n",
    "# Growth\n",
    "s = (np.random.pareto(a, 5000) + 1) * m\n",
    "node_list = s.astype(int)\n",
    "param = np.random.normal(5, 1, 10000).astype(int)\n",
    "growth_rand =[]\n",
    "for n, m in zip(node_list, param):\n",
    "    if 2 <= m <= 10:\n",
    "        if 10 < n:\n",
    "            growth_rand.append((n, m))\n",
    "    if len(growth_rand) == 1000:\n",
    "        break\n",
    "\n",
    "# Attach\n",
    "a, m = 2., 30.  # 分布の幅と、モードを指定   \n",
    "s = (np.random.pareto(a, 5000) + 1) * m\n",
    "\n",
    "node_list = s.astype(int)\n",
    "param = np.random.normal(5, 1, 10000).astype(int)\n",
    "step_rand =[]\n",
    "for n, m in zip(node_list, param):\n",
    "    if 1 <= m <= 10:\n",
    "        if 10 < n:\n",
    "            step_rand.append((n,m*n))\n",
    "    if len(step_rand) == 1000:\n",
    "        break\n",
    "\n",
    "# Random\n",
    "a, m = 2., 30.  # 分布の幅と、モードを指定   \n",
    "s = (np.random.pareto(a, 5000) + 1) * m\n",
    "node_list = s.astype(int)\n",
    "p_rand = np.random.normal(0.1, 0.02, 2000)\n",
    "random_rand =[]\n",
    "for n, m in zip(node_list, p_rand):\n",
    "    if 10 < n:\n",
    "        random_rand.append((n,m))\n",
    "    if len(random_rand) == 1000:\n",
    "        break\n",
    "\n",
    "\n",
    "# make\n",
    "dataset_name = \"new_parete\"\n",
    "\n",
    "df = pd.DataFrame() # dataset info 保存用\n",
    "cnt = 0\n",
    "# BA\n",
    "for kind in [\"BA\", \"Attach\", \"Growth\", \"Random\"]:\n",
    "    params = {\"BA\": ba_rand, \"Attach\": step_rand, \"Growth\": growth_rand, \"Random\": random_rand}\n",
    "    make_save_folder(dataset_name, kind)\n",
    "    for i, (n, p) in tqdm(enumerate(params[kind])):\n",
    "        info = make_save(kind, n, p, i, dataset_name)\n",
    "            \n",
    "        df = df.append(pd.Series(info, name=cnt))\n",
    "        cnt += 1\n",
    "\n",
    "df.to_csv(f\"../graph_data/{dataset_name}/data_info.csv\")"
   ]
  },
  {
   "cell_type": "code",
   "execution_count": 83,
   "id": "71be4944",
   "metadata": {},
   "outputs": [
    {
     "data": {
      "image/png": "[encoded data removed]",
      "text/plain": [
       "<Figure size 432x288 with 1 Axes>"
      ]
     },
     "metadata": {
      "needs_background": "light"
     },
     "output_type": "display_data"
    }
   ],
   "source": [
    "plt.hist(df.query('kind==\"BA\"').edges, bins=np.logspace(0, 4, 50))\n",
    "plt.xscale(\"log\")\n",
    "plt.yscale(\"log\")"
   ]
  },
  {
   "cell_type": "code",
   "execution_count": null,
   "id": "6f166237",
   "metadata": {},
   "outputs": [],
   "source": []
  }
 ],
 "metadata": {
  "kernelspec": {
   "display_name": "Python 3",
   "language": "python",
   "name": "python3"
  },
  "language_info": {
   "codemirror_mode": {
    "name": "ipython",
    "version": 3
   },
   "file_extension": ".py",
   "mimetype": "text/x-python",
   "name": "python",
   "nbconvert_exporter": "python",
   "pygments_lexer": "ipython3",
   "version": "3.8.8"
  }
 },
 "nbformat": 4,
 "nbformat_minor": 5
}
