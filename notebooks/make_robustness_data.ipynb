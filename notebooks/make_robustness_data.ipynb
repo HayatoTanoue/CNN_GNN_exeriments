{
 "cells": [
  {
   "cell_type": "markdown",
   "id": "275b9a42",
   "metadata": {},
   "source": [
    "# 頑健性 検証用データセットの作成"
   ]
  },
  {
   "cell_type": "markdown",
   "id": "f6ecd66d",
   "metadata": {},
   "source": [
    "## ノードサイズ依存性の検証\n",
    "リサイズを固定し、ノードサイズが大きくなっていくに連れて精度はどう変化するのかを検証  \n",
    "-> 横軸 : ノード数, 縦軸 : 精度\n",
    "\n",
    "### poisson のパラメータ乱数\n",
    "- BA 平均 5 分散 3\n",
    "- Growth 平均 5 分散 3\n",
    "- Attach 平均 500 分散 100\n",
    "- Random 平均 0.09 分散 0.03\n",
    "\n",
    "### 検証用データセット\n",
    "node 50, 100, 300, 500, 1000, 2000, 5000  \n",
    "各ノード数で1000個作成.  \n",
    "パラメータの乱数範囲はpoissonと同様にする設定"
   ]
  },
  {
   "cell_type": "code",
   "execution_count": 2,
   "id": "5a5c5826",
   "metadata": {},
   "outputs": [],
   "source": [
    "import os\n",
    "import torch\n",
    "import numpy as np\n",
    "import networkx as nx\n",
    "import matplotlib.pyplot as plt\n",
    "from tqdm import tqdm\n",
    "from glob import glob\n",
    "import pandas as pd\n",
    "\n",
    "from test_utils import network_info\n",
    "from reserch_utils_HT import network_to_image\n",
    "from reserch_utils_HT import no_growth, no_preferential_attachment\n",
    "from torch_geometric.utils import from_networkx"
   ]
  },
  {
   "cell_type": "markdown",
   "id": "6c484667",
   "metadata": {},
   "source": [
    "# ヒートマップ用データセット作成"
   ]
  },
  {
   "cell_type": "code",
   "execution_count": 3,
   "id": "9a5df5fb",
   "metadata": {},
   "outputs": [],
   "source": [
    "def robustness(kind):\n",
    "    def attach_params(n):\n",
    "        return [n*.1, n*.25, n*.5, n*.75, n, n*2, n*3, n*4, n*8, n*10, n*15]\n",
    "    \n",
    "    \n",
    "    kind_to_index = {\"BA\": 0, \"Attach\": 1, \"Growth\": 2, \"Random\": 3}\n",
    "    \n",
    "    nodes = [20,30,50,70,100,130,200,300,500,1000,2000]\n",
    "    \n",
    "        \n",
    "    for node in tqdm(nodes):\n",
    "        acc_dict = {} # 結果保存用 辞書 (key: node, value: 精度)\n",
    "        \n",
    "        # parameters\n",
    "        if kind in [\"BA\", \"Growth\"]:\n",
    "            if node >= 50:\n",
    "                params = [1,2,4,6,8,10,15,20,30,40]\n",
    "            elif node == 30:\n",
    "                params = [1,2,4,6,8,10,15,20]\n",
    "            elif node == 20:\n",
    "                params = [1,2,4,6,8,10]\n",
    "            else:\n",
    "                params = [1,2,4,6,8,10,15,20]\n",
    "                \n",
    "        elif kind == \"Attach\":\n",
    "            params = attach_params(node)\n",
    "        else:\n",
    "            params = [0.01, 0.02, 0.05, 0.07, 0.1, 0.15, 0.2]\n",
    "        \n",
    "        for m in params:\n",
    "            cnt = 0\n",
    "            os.makedirs(f\"./robustness_data_graph/{kind}/{node}/{m}\", exist_ok=True)\n",
    "            os.makedirs(f\"./robustness_data_img/{kind}/{node}/{m}\", exist_ok=True)\n",
    "            \n",
    "            os.makedirs(f\"./robustness_data_tensor/{kind}/{node}/{m}/edge\", exist_ok=True)\n",
    "            os.makedirs(f\"./robustness_data_tensor/{kind}/{node}/{m}/x\", exist_ok=True)\n",
    "            os.makedirs(f\"./robustness_data_tensor/{kind}/{node}/{m}/y\", exist_ok=True)\n",
    "            \n",
    "            \n",
    "            # make data\n",
    "            for i in range(50):\n",
    "                if kind == \"BA\":\n",
    "                    G = nx.barabasi_albert_graph(node, m, seed=10000+i)\n",
    "                elif kind == \"Attach\":\n",
    "                    G = no_growth(node, m, seed=10000+i)\n",
    "                elif kind == \"Growth\":\n",
    "                    G = no_preferential_attachment(node, m, seed=10000+i)\n",
    "                else:\n",
    "                    G = nx.gnp_random_graph(node, m, seed=10000+i)\n",
    "                \n",
    "                nx.write_adjlist(G, f\"./robustness_data_graph/{kind}/{node}/{m}/{i}.adjlist\")\n",
    "                \n",
    "                img = network_to_image(G, sort=True)\n",
    "                img.save(f\"./robustness_data_img/{kind}/{node}/{m}/{i}.png\")\n",
    "                \n",
    "                data_tensor = graph_to_geometricTensor(G, kind)\n",
    "                torch.save(data_tensor.edge_index, f\"./robustness_data_tensor/{kind}/{node}/{m}/edge/{i}.pt\")\n",
    "                torch.save(data_tensor.x, f\"./robustness_data_tensor/{kind}/{node}/{m}/x/{i}.pt\")    \n",
    "                torch.save(data_tensor.y, f\"./robustness_data_tensor/{kind}/{node}/{m}/y/{i}.pt\")\n",
    "                \n",
    "                \n",
    "                del G\n",
    "                del img"
   ]
  },
  {
   "cell_type": "code",
   "execution_count": 1,
   "id": "e6e1cee2",
   "metadata": {},
   "outputs": [],
   "source": [
    "\n",
    "def graph_to_geometricTensor(G, kind):\n",
    "    \"\"\" graph -> GNN用データ 変換\"\"\"\n",
    "    kind_to_label = {\"BA\": 0, \"Attach\": 1, \"Growth\": 2, \"Random\": 3}\n",
    "    # graph to torch geometric data\n",
    "    data = from_networkx(G)\n",
    "\n",
    "    # set node attribute\n",
    "    data.x = torch.tensor(\n",
    "        [[d] for d in list(dict(G.degree()).values())],\n",
    "        dtype=torch.float,\n",
    "    )\n",
    "    # set graph label\n",
    "    data.y = torch.tensor([kind_to_label[kind]])\n",
    "    return data"
   ]
  },
  {
   "cell_type": "code",
   "execution_count": 5,
   "id": "7fbfe021",
   "metadata": {},
   "outputs": [
    {
     "name": "stderr",
     "output_type": "stream",
     "text": [
      "100%|██████████| 11/11 [06:10<00:00, 33.71s/it]\n",
      "100%|██████████| 11/11 [4:10:44<00:00, 1367.69s/it]\n",
      "100%|██████████| 11/11 [08:18<00:00, 45.31s/it] \n",
      "100%|██████████| 11/11 [15:08<00:00, 82.57s/it] \n"
     ]
    }
   ],
   "source": [
    "robustness(\"BA\")\n",
    "robustness(\"Attach\")\n",
    "robustness(\"Growth\")\n",
    "robustness(\"Random\")"
   ]
  },
  {
   "cell_type": "code",
   "execution_count": null,
   "id": "74402bbf",
   "metadata": {},
   "outputs": [],
   "source": [
    "# robustness data info"
   ]
  },
  {
   "cell_type": "code",
   "execution_count": 6,
   "id": "ead0a22b",
   "metadata": {},
   "outputs": [],
   "source": [
    "def ba_growth_param(n):\n",
    "    if n >= 50:\n",
    "        params = [1,2,4,6,8,10,15,20,30,40]\n",
    "    elif n == 30:\n",
    "        params = [1,2,4,6,8,10,15,20]\n",
    "    elif n == 20:\n",
    "        params = [1,2,4,6,8,10]\n",
    "    else:\n",
    "        params = [1,2,4,6,8,10,15,20]\n",
    "    return params\n",
    "\n",
    "def attach_params(n):\n",
    "    return [n*.1,n*.25,n*.5,n*.75,n,n*2,n*3,n*4,n*8,n*10,n*15]\n",
    "\n",
    "def pred_there(model, data, class_index, thres):\n",
    "    \"\"\" 閾値を超えて、予測が正解の数を返す \"\"\"\n",
    "    softmax = torch.nn.Softmax(1)\n",
    "    with torch.no_grad():\n",
    "        pred = softmax(model(data))\n",
    "    index = pred.argmax(dim=1) # pred index\n",
    "    count = (pred[index == class_index][:, class_index] > thres).sum().item() # 閾値を超え 且つ 予想が正解 した数\n",
    "    return count\n",
    "\n",
    "def robust_acc_df(kind):\n",
    "    kind_to_index = {\"BA\": 0, \"Attach\": 1, \"Growth\": 2, \"Random\": 3}\n",
    "    df = pd.DataFrame()\n",
    "    cnt = 0\n",
    "    for n in tqdm([20,30,50,70,100,130,200,300,500,1000,2000]):\n",
    "        kind_to_parameters = {\n",
    "            \"BA\": ba_growth_param(n),\n",
    "            \"Growth\": ba_growth_param(n),\n",
    "            \"Attach\": attach_params(n),\n",
    "            \"Random\": [0.01, 0.02, 0.05, 0.07, 0.1, 0.15, 0.2]\n",
    "        }\n",
    "\n",
    "        for param_index, p in enumerate(kind_to_parameters[kind]):\n",
    "            # network to torch tensor\n",
    "            for i, path in enumerate(glob(f\"./robustness_data_graph/{kind}/{n}/{p}/*\")):\n",
    "                G = nx.read_adjlist(path)\n",
    "                info = network_info(G)\n",
    "                info[\"kind\"] = kind\n",
    "                info[\"parameter\"] = p\n",
    "                info[\"node\"] = n\n",
    "                df = df.append(pd.Series(info, name=cnt))\n",
    "                cnt += 1\n",
    "    return df\n",
    "\n",
    "\n",
    "def make_heatmap(dataset_name, resize, gpu=True):\n",
    "    # load model\n",
    "    model = CNN_base(\"CNN\", 4, resize)\n",
    "    model_path = f\"../logs/{dataset_name}/CNN/sort_{resize}_0.001/model_weight/fold0_trial0_epoch10.pth\"\n",
    "    if gpu:\n",
    "        model.load_state_dict(torch.load(model_path))\n",
    "    else:\n",
    "        model.load_state_dict(torch.load(model_path, map_location=torch.device('cpu')))\n",
    "    \n",
    "    # make acc dataframe\n",
    "    ba = robust_acc_df(model, resize, \"BA\")\n",
    "    attach = robust_acc_df(model, resize, \"Attach\")\n",
    "    growth = robust_acc_df(model, resize, \"Growth\") \n",
    "    random = robust_acc_df(model, resize, \"Random\")\n",
    "    \n",
    "    ba.to_csv(f\"./robustness_plot/acc_df/CNN_BA_{dataset_name}_{resize}.csv\")\n",
    "    attach.to_csv(f\"./robustness_plot/acc_df/CNN_Attach_{dataset_name}_{resize}.csv\")\n",
    "    growth.to_csv(f\"./robustness_plot/acc_df/CNN_Growth_{dataset_name}_{resize}.csv\")\n",
    "    random.to_csv(f\"./robustness_plot/acc_df/CNN_Random_{dataset_name}_{resize}.csv\")"
   ]
  },
  {
   "cell_type": "code",
   "execution_count": null,
   "id": "9f3dc18d",
   "metadata": {},
   "outputs": [],
   "source": []
  },
  {
   "cell_type": "code",
   "execution_count": null,
   "id": "cfa79331",
   "metadata": {},
   "outputs": [],
   "source": []
  },
  {
   "cell_type": "markdown",
   "id": "9fdb0b3c",
   "metadata": {},
   "source": [
    "# 改良"
   ]
  },
  {
   "cell_type": "code",
   "execution_count": null,
   "id": "c5d928f7",
   "metadata": {},
   "outputs": [],
   "source": []
  },
  {
   "cell_type": "code",
   "execution_count": 3,
   "id": "06979c75",
   "metadata": {},
   "outputs": [],
   "source": [
    "def make_graph(kind, node, m, i):\n",
    "    if kind == \"BA\":\n",
    "        G = nx.barabasi_albert_graph(node, m, seed=10000+i)\n",
    "    elif kind == \"Attach\":\n",
    "        G = no_growth(node, m, seed=10000+i)\n",
    "    elif kind == \"Growth\":\n",
    "        G = no_preferential_attachment(node, m, seed=10000+i)\n",
    "    else:\n",
    "        G = nx.gnp_random_graph(node, m, seed=10000+i)\n",
    "    return G\n",
    "\n",
    "def net_info(G, kind, parameter, i):\n",
    "    \"\"\" ノード数, エッジ数, 平均次数 \"\"\"\n",
    "    degs = list(dict(G.degree).values())\n",
    "    info = {\"node\": nx.number_of_nodes(G),\n",
    "            \"edges\": nx.number_of_edges(G),\n",
    "            \"average\": np.average(degs),\n",
    "            \"kind\": kind,\n",
    "            \"parameter\": parameter,\n",
    "            \"seed\" : i+10000\n",
    "           }\n",
    "    return info\n",
    "\n",
    "def save_graph_img_tensor(G, kind, node, parameter, i):\n",
    "    # graph\n",
    "    nx.write_adjlist(G, f\"./robustness_data_graph/{kind}/{node}/{parameter}/{i}.adjlist\")\n",
    "    # image\n",
    "    img = network_to_image(G, sort=True)\n",
    "    img.save(f\"./robustness_data_img/{kind}/{node}/{parameter}/{i}.png\")\n",
    "    del img\n",
    "    # tensor\n",
    "    data_tensor = graph_to_geometricTensor(G, kind)\n",
    "    torch.save(data_tensor.edge_index, f\"./robustness_data_tensor/{kind}/{node}/{parameter}/edge/{i}.pt\")\n",
    "    torch.save(data_tensor.x, f\"./robustness_data_tensor/{kind}/{node}/{parameter}/x/{i}.pt\")    \n",
    "    torch.save(data_tensor.y, f\"./robustness_data_tensor/{kind}/{node}/{parameter}/y/{i}.pt\")\n",
    "    del data_tensor"
   ]
  },
  {
   "cell_type": "code",
   "execution_count": 4,
   "id": "695ab0e9",
   "metadata": {},
   "outputs": [],
   "source": [
    "parameter = {\n",
    "    \"BA\": {\n",
    "        20 : [1,2,3,4,5,6,7,8,9,10],\n",
    "        30 : [1,2,3,4,5,6,7,8,9,10],\n",
    "        50 : [1,2,3,4,5,6,7,8,9,10],\n",
    "        70 : [1,2,3,4,5,6,7,8,9,10],\n",
    "        100: [1,2,3,4,5,6,7,8,9,10,15,20,25,30],\n",
    "        200: [1,2,3,4,5,6,7,8,9,10,15,20,25,30],\n",
    "        300: [1,2,3,4,5,6,7,8,9,10,15,20,25,30],\n",
    "        500: [1,2,3,4,5,6,7,8,9,10,15,20,25,30],\n",
    "        700: [1,2,3,4,5,6,7,8,9,10,15,20,25,30],\n",
    "        1000: [1,2,3,4,5,6,7,8,9,10,15,20,25,30,50,100,200],\n",
    "        2000: [1,2,3,4,5,6,7,8,9,10,15,20,25,30,50,100,200]\n",
    "    },\n",
    "    \"Growth\": {\n",
    "        20 : [1,2,3,4,5,6,7,8,9,10],\n",
    "        30 : [1,2,3,4,5,6,7,8,9,10],\n",
    "        50 : [1,2,3,4,5,6,7,8,9,10],\n",
    "        70 : [1,2,3,4,5,6,7,8,9,10],\n",
    "        100: [1,2,3,4,5,6,7,8,9,10,15,20,25,30],\n",
    "        200: [1,2,3,4,5,6,7,8,9,10,15,20,25,30],\n",
    "        300: [1,2,3,4,5,6,7,8,9,10,15,20,25,30],\n",
    "        500: [1,2,3,4,5,6,7,8,9,10,15,20,25,30],\n",
    "        700: [1,2,3,4,5,6,7,8,9,10,15,20,25,30],\n",
    "        1000: [1,2,3,4,5,6,7,8,9,10,15,20,25,30,50,100,200],\n",
    "        2000: [1,2,3,4,5,6,7,8,9,10,15,20,25,30,50,100,200]\n",
    "    },\n",
    "    \"Attach\":{\n",
    "        20 : [20 * i for i in np.linspace(0.5, 25, 10)],\n",
    "        30 : [30 * i for i in np.linspace(0.5, 25, 10)],\n",
    "        50 : [50 * i for i in np.linspace(0.5, 25, 10)],\n",
    "        70 : [70 * i for i in np.linspace(0.5, 25, 10)],\n",
    "        \n",
    "        100 : [100 * i for i in np.linspace(0.5, 25, 14)],\n",
    "        200 : [200 * i for i in np.linspace(0.5, 25, 14)],\n",
    "        300 : [300 * i for i in np.linspace(0.5, 25, 14)],\n",
    "        500 : [500 * i for i in np.linspace(0.5, 25, 14)],\n",
    "        700 : [700 * i for i in np.linspace(0.5, 25, 14)],\n",
    "        1000 : [1000 * i for i in np.linspace(0.5, 25, 17)],\n",
    "        2000 : [2000 * i for i in np.linspace(0.5, 25, 17)],\n",
    "        \n",
    "    },\n",
    "    \"Random\": {\n",
    "        20: np.logspace(-1.3, -0.1, 10),\n",
    "        30: np.logspace(-1.3, -0.1, 10),\n",
    "        50: np.logspace(-1.3, -0.1, 10),\n",
    "        70: np.logspace(-1.3, -0.1, 10),\n",
    "        100: np.logspace(-2, -0.7, 14),\n",
    "        200: np.logspace(-2, -0.7, 14),\n",
    "        300: np.logspace(-2, -0.7, 14),\n",
    "        500: np.logspace(-2, -0.7, 14),\n",
    "        700: np.logspace(-2, -0.7, 14),\n",
    "        1000: np.logspace(-3., -0.9, 17),\n",
    "        2000: np.logspace(-3., -0.9, 17)\n",
    "    }\n",
    "}"
   ]
  },
  {
   "cell_type": "code",
   "execution_count": 5,
   "id": "0c030cfc",
   "metadata": {},
   "outputs": [],
   "source": [
    "def robustness():\n",
    "    kind_to_index = {\"BA\": 0, \"Attach\": 1, \"Growth\": 2, \"Random\": 3}\n",
    "    \n",
    "    nodes = [20,30,50,70,100,200,300,500,700,1000,2000]\n",
    "    \n",
    "    info_df = pd.DataFrame()\n",
    "    # make data\n",
    "    cnt = 0\n",
    "    for kind in [\"BA\", \"Attach\", \"Growth\", \"Random\"]:\n",
    "        print(kind)\n",
    "        for node in tqdm(nodes):\n",
    "            for p in parameter[kind][node]:\n",
    "                if kind == \"Attach\":\n",
    "                    p = int(p)\n",
    "                \n",
    "                os.makedirs(f\"./robustness_data_graph/{kind}/{node}/{p}\", exist_ok=True)\n",
    "                os.makedirs(f\"./robustness_data_img/{kind}/{node}/{p}\", exist_ok=True)\n",
    "                os.makedirs(f\"./robustness_data_tensor/{kind}/{node}/{p}/edge\", exist_ok=True)\n",
    "                os.makedirs(f\"./robustness_data_tensor/{kind}/{node}/{p}/x\", exist_ok=True)\n",
    "                os.makedirs(f\"./robustness_data_tensor/{kind}/{node}/{p}/y\", exist_ok=True)\n",
    "                \n",
    "                for i in range(100):\n",
    "                    G = make_graph(kind, node, p, i)\n",
    "                    save_graph_img_tensor(G, kind, node, p, i)\n",
    "                    info_df = info_df.append(pd.Series(net_info(G, kind, p, i), name=cnt))\n",
    "\n",
    "                    cnt+=1\n",
    "    return info_df"
   ]
  },
  {
   "cell_type": "code",
   "execution_count": 6,
   "id": "6fb2fbb0",
   "metadata": {},
   "outputs": [
    {
     "name": "stderr",
     "output_type": "stream",
     "text": [
      "  0%|          | 0/11 [00:00<?, ?it/s]"
     ]
    },
    {
     "name": "stdout",
     "output_type": "stream",
     "text": [
      "BA\n"
     ]
    },
    {
     "name": "stderr",
     "output_type": "stream",
     "text": [
      "100%|██████████| 11/11 [31:03<00:00, 169.39s/it]\n",
      "  0%|          | 0/11 [00:00<?, ?it/s]"
     ]
    },
    {
     "name": "stdout",
     "output_type": "stream",
     "text": [
      "Attach\n"
     ]
    },
    {
     "name": "stderr",
     "output_type": "stream",
     "text": [
      "100%|██████████| 11/11 [7:05:31<00:00, 2321.07s/it]\n",
      "  0%|          | 0/11 [00:00<?, ?it/s]"
     ]
    },
    {
     "name": "stdout",
     "output_type": "stream",
     "text": [
      "Growth\n"
     ]
    },
    {
     "name": "stderr",
     "output_type": "stream",
     "text": [
      "100%|██████████| 11/11 [39:00<00:00, 212.81s/it]\n",
      "  0%|          | 0/11 [00:00<?, ?it/s]"
     ]
    },
    {
     "name": "stdout",
     "output_type": "stream",
     "text": [
      "Random\n"
     ]
    },
    {
     "name": "stderr",
     "output_type": "stream",
     "text": [
      "100%|██████████| 11/11 [39:23<00:00, 214.87s/it]\n"
     ]
    }
   ],
   "source": [
    "info_df = robustness()\n",
    "info_df.to_csv(\"./robustness_plot/robustness_info.csv\")"
   ]
  },
  {
   "cell_type": "code",
   "execution_count": 13,
   "id": "66c01477",
   "metadata": {},
   "outputs": [
    {
     "data": {
      "text/plain": [
       "<AxesSubplot:xlabel='node', ylabel='edges'>"
      ]
     },
     "execution_count": 13,
     "metadata": {},
     "output_type": "execute_result"
    },
    {
     "data": {
      "image/png": "[encoded data removed]",
      "text/plain": [
       "<Figure size 432x288 with 1 Axes>"
      ]
     },
     "metadata": {
      "needs_background": "light"
     },
     "output_type": "display_data"
    }
   ],
   "source": [
    "sns.histplot(data=info_df.query(\"edges>0\"), x=\"node\", y=\"edges\", hue=\"kind\", log_scale=(True,True))"
   ]
  },
  {
   "cell_type": "code",
   "execution_count": null,
   "id": "df0243fc",
   "metadata": {},
   "outputs": [],
   "source": []
  }
 ],
 "metadata": {
  "kernelspec": {
   "display_name": "Python 3",
   "language": "python",
   "name": "python3"
  },
  "language_info": {
   "codemirror_mode": {
    "name": "ipython",
    "version": 3
   },
   "file_extension": ".py",
   "mimetype": "text/x-python",
   "name": "python",
   "nbconvert_exporter": "python",
   "pygments_lexer": "ipython3",
   "version": "3.8.8"
  }
 },
 "nbformat": 4,
 "nbformat_minor": 5
}
