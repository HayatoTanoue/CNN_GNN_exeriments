{
 "cells": [
  {
   "cell_type": "code",
   "execution_count": 1,
   "id": "e7b040ef",
   "metadata": {},
   "outputs": [],
   "source": [
    "import sys\n",
    "sys.path.append(\"..\")\n",
    "import torch\n",
    "import pandas as pd\n",
    "import numpy as np\n",
    "import networkx as nx\n",
    "import seaborn as sns\n",
    "import matplotlib.pyplot as plt\n",
    "from glob import glob\n",
    "from tqdm import tqdm\n",
    "from reserch_utils_HT import network_to_image\n",
    "from models.set_model import GNN_base\n",
    "from data.data_loader import gnn_data_loader_cv\n",
    "from torch_geometric.loader import DataLoader"
   ]
  },
  {
   "cell_type": "code",
   "execution_count": 2,
   "id": "6c4deaf9",
   "metadata": {},
   "outputs": [],
   "source": [
    "from experiments.cross_validation import split_data, train\n",
    "from sklearn.model_selection import KFold\n",
    "from torch.utils.data.dataset import Subset\n",
    "import torch.nn as nn\n",
    "import torch.optim as optim\n",
    "import torch\n",
    "from experiments.gnn_train_utils import gnn_train_val_1epoch"
   ]
  },
  {
   "cell_type": "code",
   "execution_count": 3,
   "id": "a645cc55",
   "metadata": {},
   "outputs": [],
   "source": [
    "parameter = {\n",
    "    \"BA\": {\n",
    "        20 : [1,2,3,4,5,6,7,8,9,10],\n",
    "        30 : [1,2,3,4,5,6,7,8,9,10],\n",
    "        50 : [1,2,3,4,5,6,7,8,9,10],\n",
    "        70 : [1,2,3,4,5,6,7,8,9,10],\n",
    "        100: [1,2,3,4,5,6,7,8,9,10,15,20,25,30],\n",
    "        200: [1,2,3,4,5,6,7,8,9,10,15,20,25,30],\n",
    "        300: [1,2,3,4,5,6,7,8,9,10,15,20,25,30],\n",
    "        500: [1,2,3,4,5,6,7,8,9,10,15,20,25,30],\n",
    "        700: [1,2,3,4,5,6,7,8,9,10,15,20,25,30],\n",
    "        1000: [1,2,3,4,5,6,7,8,9,10,15,20,25,30,50,100,200],\n",
    "        2000: [1,2,3,4,5,6,7,8,9,10,15,20,25,30,50,100,200]\n",
    "    },\n",
    "    \"Growth\": {\n",
    "        20 : [1,2,3,4,5,6,7,8,9,10],\n",
    "        30 : [1,2,3,4,5,6,7,8,9,10],\n",
    "        50 : [1,2,3,4,5,6,7,8,9,10],\n",
    "        70 : [1,2,3,4,5,6,7,8,9,10],\n",
    "        100: [1,2,3,4,5,6,7,8,9,10,15,20,25,30],\n",
    "        200: [1,2,3,4,5,6,7,8,9,10,15,20,25,30],\n",
    "        300: [1,2,3,4,5,6,7,8,9,10,15,20,25,30],\n",
    "        500: [1,2,3,4,5,6,7,8,9,10,15,20,25,30],\n",
    "        700: [1,2,3,4,5,6,7,8,9,10,15,20,25,30],\n",
    "        1000: [1,2,3,4,5,6,7,8,9,10,15,20,25,30,50,100,200],\n",
    "        2000: [1,2,3,4,5,6,7,8,9,10,15,20,25,30,50,100,200]\n",
    "    },\n",
    "    \"Attach\":{\n",
    "        20 : [20 * i for i in np.linspace(0.5, 25, 10)],\n",
    "        30 : [30 * i for i in np.linspace(0.5, 25, 10)],\n",
    "        50 : [50 * i for i in np.linspace(0.5, 25, 10)],\n",
    "        70 : [70 * i for i in np.linspace(0.5, 25, 10)],\n",
    "        \n",
    "        100 : [100 * i for i in np.linspace(0.5, 25, 14)],\n",
    "        200 : [200 * i for i in np.linspace(0.5, 25, 14)],\n",
    "        300 : [300 * i for i in np.linspace(0.5, 25, 14)],\n",
    "        500 : [500 * i for i in np.linspace(0.5, 25, 14)],\n",
    "        700 : [700 * i for i in np.linspace(0.5, 25, 14)],\n",
    "        1000 : [1000 * i for i in np.linspace(0.5, 25, 17)],\n",
    "        2000 : [2000 * i for i in np.linspace(0.5, 25, 17)],\n",
    "        \n",
    "    },\n",
    "    \"Random\": {\n",
    "        20: np.logspace(-1.3, -0.1, 10),\n",
    "        30: np.logspace(-1.3, -0.1, 10),\n",
    "        50: np.logspace(-1.3, -0.1, 10),\n",
    "        70: np.logspace(-1.3, -0.1, 10),\n",
    "        100: np.logspace(-2, -0.7, 14),\n",
    "        200: np.logspace(-2, -0.7, 14),\n",
    "        300: np.logspace(-2, -0.7, 14),\n",
    "        500: np.logspace(-2, -0.7, 14),\n",
    "        700: np.logspace(-2, -0.7, 14),\n",
    "        1000: np.logspace(-3., -0.9, 17),\n",
    "        2000: np.logspace(-3., -0.9, 17)\n",
    "    }\n",
    "}\n",
    "\n",
    "nodes = [20,30,50,70,100,200,300,500,700,1000,2000]"
   ]
  },
  {
   "cell_type": "code",
   "execution_count": 36,
   "id": "85ea7703",
   "metadata": {},
   "outputs": [],
   "source": [
    "def make_pred_df(model, data, kind, n, p, cnt):\n",
    "    \"\"\" ネットワークごとの予測ラベルと尤度データ作成 \"\"\"\n",
    "    kind_to_label = {\"BA\": 0, \"Attach\": 1, \"Growth\": 2, \"Random\": 3}\n",
    "    softmax = torch.nn.Softmax(1)\n",
    "    with torch.no_grad():\n",
    "        pred = softmax(model(data))\n",
    "    index = pred.argmax(dim=1) # pred index\n",
    "    \n",
    "    del data\n",
    "\n",
    "    pred_df = pd.DataFrame()\n",
    "    pred_df[\"seed\"] = np.array(range(10)) + 10000 + cnt # seed\n",
    "    pred_df[\"node\"] = n\n",
    "    pred_df[\"parameter\"] = p\n",
    "    pred_df[\"kind\"] = kind\n",
    "    pred_df[\"true_label\"] = kind_to_label[kind]\n",
    "    pred_df[\"pred\"] = index.cpu()\n",
    "    pred_df[\"probablility\"] = [pred[i, idx].item() for i, idx in enumerate(index)]\n",
    "    return pred_df\n",
    "\n",
    "\n",
    "def robust_acc_df(model, resize, kind):\n",
    "    kind_to_index = {\"BA\": 0, \"Attach\": 1, \"Growth\": 2, \"Random\": 3}\n",
    "    device = torch.device(\"cuda:0\" if torch.cuda.is_available() else \"cpu\")\n",
    "    df = pd.DataFrame()\n",
    "\n",
    "    for n in tqdm([20,30,50,70,100,200,300,500,700,1000,2000]):\n",
    "        if kind == \"Random\":\n",
    "            paths = sorted(glob(f\"./robustness_data_tensor/{kind}/{n}/*\"))\n",
    "        else:\n",
    "            paths = natsorted(glob(f\"./robustness_data_tensor/{kind}/{n}/*\"))\n",
    "            \n",
    "        for path_index, path in enumerate(paths):\n",
    "            # load data\n",
    "            p = float(path.split(\"/\")[-1])\n",
    "            data, _ = gnn_data_loader_cv(\"a\", path=path)\n",
    "            data_loader = DataLoader(data, batch_size=10)\n",
    "            \n",
    "            cnt = 0\n",
    "            for input_data in iter(data_loader):\n",
    "                pred_df = make_pred_df(model, input_data.to(device), kind, n, p, cnt)\n",
    "                df = df.append(pred_df, ignore_index=True)\n",
    "                cnt += 10\n",
    "    return df\n",
    "\n",
    "def make_heatmap(dataset_name, resize, model_name, model, epoch, fold, gpu=True):\n",
    "    pred_df = pd.DataFrame()\n",
    "    for kind in [\"BA\", \"Attach\", \"Growth\", \"Random\"]:\n",
    "        pred_df = pred_df.append(robust_acc_df(model, resize, kind))\n",
    "        pred_df.to_csv(f\"./robustness_plot/GNN/{model_name}_{dataset_name}_{epoch}_{fold}.csv\")"
   ]
  },
  {
   "cell_type": "code",
   "execution_count": 37,
   "id": "030759c2",
   "metadata": {},
   "outputs": [],
   "source": [
    "from natsort import natsorted"
   ]
  },
  {
   "cell_type": "code",
   "execution_count": 38,
   "id": "acf3c756",
   "metadata": {},
   "outputs": [
    {
     "name": "stderr",
     "output_type": "stream",
     "text": [
      "  0%|          | 0/11 [00:00<?, ?it/s]"
     ]
    },
    {
     "name": "stdout",
     "output_type": "stream",
     "text": [
      "GIN subset1\n"
     ]
    },
    {
     "name": "stderr",
     "output_type": "stream",
     "text": [
      "100%|██████████| 11/11 [00:25<00:00,  2.35s/it]\n",
      "100%|██████████| 11/11 [00:27<00:00,  2.51s/it]\n",
      "100%|██████████| 11/11 [00:29<00:00,  2.70s/it]\n",
      "100%|██████████| 11/11 [01:08<00:00,  6.21s/it]\n",
      "  0%|          | 0/11 [00:00<?, ?it/s]"
     ]
    },
    {
     "name": "stdout",
     "output_type": "stream",
     "text": [
      "GIN poisson\n"
     ]
    },
    {
     "name": "stderr",
     "output_type": "stream",
     "text": [
      "100%|██████████| 11/11 [00:28<00:00,  2.60s/it]\n",
      "100%|██████████| 11/11 [00:25<00:00,  2.31s/it]\n",
      "100%|██████████| 11/11 [00:27<00:00,  2.50s/it]\n",
      "100%|██████████| 11/11 [01:08<00:00,  6.21s/it]\n",
      "  0%|          | 0/11 [00:00<?, ?it/s]"
     ]
    },
    {
     "name": "stdout",
     "output_type": "stream",
     "text": [
      "GIN new_poisson\n"
     ]
    },
    {
     "name": "stderr",
     "output_type": "stream",
     "text": [
      "100%|██████████| 11/11 [00:29<00:00,  2.68s/it]\n",
      "100%|██████████| 11/11 [00:26<00:00,  2.44s/it]\n",
      "100%|██████████| 11/11 [00:28<00:00,  2.56s/it]\n",
      "100%|██████████| 11/11 [01:08<00:00,  6.26s/it]\n",
      "  0%|          | 0/11 [00:00<?, ?it/s]"
     ]
    },
    {
     "name": "stdout",
     "output_type": "stream",
     "text": [
      "GIN new_parete\n"
     ]
    },
    {
     "name": "stderr",
     "output_type": "stream",
     "text": [
      "100%|██████████| 11/11 [00:29<00:00,  2.69s/it]\n",
      "100%|██████████| 11/11 [00:29<00:00,  2.71s/it]\n",
      "100%|██████████| 11/11 [00:30<00:00,  2.77s/it]\n",
      "100%|██████████| 11/11 [01:09<00:00,  6.31s/it]\n",
      "  0%|          | 0/11 [00:00<?, ?it/s]"
     ]
    },
    {
     "name": "stdout",
     "output_type": "stream",
     "text": [
      "DGCNN subset1\n"
     ]
    },
    {
     "name": "stderr",
     "output_type": "stream",
     "text": [
      "100%|██████████| 11/11 [00:32<00:00,  2.94s/it]\n",
      "100%|██████████| 11/11 [00:28<00:00,  2.57s/it]\n",
      "100%|██████████| 11/11 [00:32<00:00,  2.92s/it]\n",
      "100%|██████████| 11/11 [01:10<00:00,  6.39s/it]\n",
      "  0%|          | 0/11 [00:00<?, ?it/s]"
     ]
    },
    {
     "name": "stdout",
     "output_type": "stream",
     "text": [
      "DGCNN poisson\n"
     ]
    },
    {
     "name": "stderr",
     "output_type": "stream",
     "text": [
      "100%|██████████| 11/11 [00:34<00:00,  3.09s/it]\n",
      "100%|██████████| 11/11 [00:28<00:00,  2.62s/it]\n",
      "100%|██████████| 11/11 [00:31<00:00,  2.82s/it]\n",
      "100%|██████████| 11/11 [01:14<00:00,  6.74s/it]\n",
      "  0%|          | 0/11 [00:00<?, ?it/s]"
     ]
    },
    {
     "name": "stdout",
     "output_type": "stream",
     "text": [
      "DGCNN new_poisson\n"
     ]
    },
    {
     "name": "stderr",
     "output_type": "stream",
     "text": [
      "100%|██████████| 11/11 [00:30<00:00,  2.80s/it]\n",
      "100%|██████████| 11/11 [00:31<00:00,  2.83s/it]\n",
      "100%|██████████| 11/11 [00:29<00:00,  2.71s/it]\n",
      "100%|██████████| 11/11 [01:06<00:00,  6.05s/it]\n",
      "  0%|          | 0/11 [00:00<?, ?it/s]"
     ]
    },
    {
     "name": "stdout",
     "output_type": "stream",
     "text": [
      "DGCNN new_parete\n"
     ]
    },
    {
     "name": "stderr",
     "output_type": "stream",
     "text": [
      "100%|██████████| 11/11 [00:32<00:00,  2.98s/it]\n",
      "100%|██████████| 11/11 [00:27<00:00,  2.53s/it]\n",
      "100%|██████████| 11/11 [00:28<00:00,  2.55s/it]\n",
      "100%|██████████| 11/11 [01:07<00:00,  6.14s/it]\n",
      "  0%|          | 0/11 [00:00<?, ?it/s]"
     ]
    },
    {
     "name": "stdout",
     "output_type": "stream",
     "text": [
      "Deepsets subset1\n"
     ]
    },
    {
     "name": "stderr",
     "output_type": "stream",
     "text": [
      "100%|██████████| 11/11 [00:21<00:00,  1.99s/it]\n",
      "100%|██████████| 11/11 [00:22<00:00,  2.07s/it]\n",
      "100%|██████████| 11/11 [00:22<00:00,  2.04s/it]\n",
      "100%|██████████| 11/11 [00:52<00:00,  4.79s/it]\n",
      "  0%|          | 0/11 [00:00<?, ?it/s]"
     ]
    },
    {
     "name": "stdout",
     "output_type": "stream",
     "text": [
      "Deepsets poisson\n"
     ]
    },
    {
     "name": "stderr",
     "output_type": "stream",
     "text": [
      "100%|██████████| 11/11 [00:23<00:00,  2.13s/it]\n",
      "100%|██████████| 11/11 [00:21<00:00,  1.92s/it]\n",
      "100%|██████████| 11/11 [00:23<00:00,  2.13s/it]\n",
      "100%|██████████| 11/11 [00:52<00:00,  4.78s/it]\n",
      "  0%|          | 0/11 [00:00<?, ?it/s]"
     ]
    },
    {
     "name": "stdout",
     "output_type": "stream",
     "text": [
      "Deepsets new_poisson\n"
     ]
    },
    {
     "name": "stderr",
     "output_type": "stream",
     "text": [
      "100%|██████████| 11/11 [00:22<00:00,  2.04s/it]\n",
      "100%|██████████| 11/11 [00:21<00:00,  1.98s/it]\n",
      "100%|██████████| 11/11 [00:23<00:00,  2.10s/it]\n",
      "100%|██████████| 11/11 [00:52<00:00,  4.73s/it]\n",
      "  0%|          | 0/11 [00:00<?, ?it/s]"
     ]
    },
    {
     "name": "stdout",
     "output_type": "stream",
     "text": [
      "Deepsets new_parete\n"
     ]
    },
    {
     "name": "stderr",
     "output_type": "stream",
     "text": [
      "100%|██████████| 11/11 [00:22<00:00,  2.06s/it]\n",
      "100%|██████████| 11/11 [00:22<00:00,  2.06s/it]\n",
      "100%|██████████| 11/11 [00:22<00:00,  2.07s/it]\n",
      "100%|██████████| 11/11 [00:54<00:00,  4.99s/it]\n"
     ]
    }
   ],
   "source": [
    "resize=100\n",
    "for model_name in [\"GIN\",\"DGCNN\", \"Deepsets\"]:\n",
    "    for dataset_name in [\"subset1\", \"poisson\", \"new_poisson\", \"new_parete\"]:\n",
    "        print(model_name, dataset_name)\n",
    "        fold_idx = 0\n",
    "        for epoch in [49]:\n",
    "            model_path=f\"./GNN_model_save/{model_name}/{dataset_name}_fold{fold_idx}_epoch{epoch}.pth\"\n",
    "            model = torch.load(model_path)\n",
    "            make_heatmap(dataset_name, resize, model_name, model, epoch, fold_idx, gpu=True)"
   ]
  },
  {
   "cell_type": "code",
   "execution_count": null,
   "id": "5d915d46",
   "metadata": {},
   "outputs": [],
   "source": []
  }
 ],
 "metadata": {
  "kernelspec": {
   "display_name": "Python 3",
   "language": "python",
   "name": "python3"
  },
  "language_info": {
   "codemirror_mode": {
    "name": "ipython",
    "version": 3
   },
   "file_extension": ".py",
   "mimetype": "text/x-python",
   "name": "python",
   "nbconvert_exporter": "python",
   "pygments_lexer": "ipython3",
   "version": "3.8.8"
  }
 },
 "nbformat": 4,
 "nbformat_minor": 5
}
