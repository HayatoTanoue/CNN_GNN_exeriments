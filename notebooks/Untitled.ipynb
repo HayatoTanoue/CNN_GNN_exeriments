{
 "cells": [
  {
   "cell_type": "code",
   "execution_count": null,
   "id": "354a574f",
   "metadata": {},
   "outputs": [],
   "source": [
    "import sys\n",
    "sys.path.append(\"..\")\n",
    "from data.data_loader import cnn_data_loader_cv\n",
    "from models.set_model import CNN_base"
   ]
  },
  {
   "cell_type": "code",
   "execution_count": null,
   "id": "e7106d68",
   "metadata": {},
   "outputs": [],
   "source": []
  }
 ],
 "metadata": {
  "kernelspec": {
   "display_name": "Python 3",
   "language": "python",
   "name": "python3"
  },
  "language_info": {
   "codemirror_mode": {
    "name": "ipython",
    "version": 3
   },
   "file_extension": ".py",
   "mimetype": "text/x-python",
   "name": "python",
   "nbconvert_exporter": "python",
   "pygments_lexer": "ipython3",
   "version": "3.8.8"
  }
 },
 "nbformat": 4,
 "nbformat_minor": 5
}
