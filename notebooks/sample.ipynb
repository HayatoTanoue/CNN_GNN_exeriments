{
 "cells": [
  {
   "cell_type": "markdown",
   "id": "d1cfdf8a",
   "metadata": {},
   "source": [
    "# 一連の流れのサンプル\n",
    "\n",
    "- 各種設定\n",
    "- ベストパラメータ探索\n",
    "    - fold out法で学習\n",
    "    - early stopping有\n",
    "    - 3回の平均値を精度とする\n",
    " \n",
    "- ベストパラメータで交差検証"
   ]
  },
  {
   "cell_type": "code",
   "execution_count": 1,
   "id": "0a6fdb3a",
   "metadata": {},
   "outputs": [],
   "source": [
    "import sys\n",
    "sys.path.append(\"../data\")\n",
    "from data_loader import cnn_data_loader_cv"
   ]
  },
  {
   "cell_type": "code",
   "execution_count": 3,
   "id": "759988f0",
   "metadata": {},
   "outputs": [],
   "source": [
    "dataset, num_class = cnn_data_loader_cv(\"MUTAG\", \"sort\", 100)"
   ]
  },
  {
   "cell_type": "code",
   "execution_count": null,
   "id": "59f72f8d",
   "metadata": {},
   "outputs": [],
   "source": []
  }
 ],
 "metadata": {
  "kernelspec": {
   "display_name": "Python 3",
   "language": "python",
   "name": "python3"
  },
  "language_info": {
   "codemirror_mode": {
    "name": "ipython",
    "version": 3
   },
   "file_extension": ".py",
   "mimetype": "text/x-python",
   "name": "python",
   "nbconvert_exporter": "python",
   "pygments_lexer": "ipython3",
   "version": "3.8.8"
  }
 },
 "nbformat": 4,
 "nbformat_minor": 5
}
