{
 "cells": [
  {
   "cell_type": "markdown",
   "id": "54cf9a51",
   "metadata": {},
   "source": [
    "# 一連の流れのサンプル\n",
    "\n",
    "- 各種設定\n",
    "- ベストパラメータ探索\n",
    "    - fold out法で学習\n",
    "    - early stopping有\n",
    "    - 3回の平均値を精度とする\n",
    " \n",
    "- ベストパラメータで交差検証"
   ]
  },
  {
   "cell_type": "code",
   "execution_count": 1,
   "id": "82c94d2a",
   "metadata": {},
   "outputs": [],
   "source": [
    "import sys\n",
    "sys.path.append(\"..\")\n",
    "from data.data_loader import cnn_data_loader_cv\n",
    "from models.set_model import CNN_base"
   ]
  },
  {
   "cell_type": "code",
   "execution_count": 2,
   "id": "778056b5",
   "metadata": {},
   "outputs": [],
   "source": [
    "# load dataset\n",
    "dataset, num_class = cnn_data_loader_cv(\"MUTAG\", \"sort\", 100)\n",
    "# set model\n",
    "model = CNN_base(\"CNN\", 2, 100)"
   ]
  },
  {
   "cell_type": "code",
   "execution_count": 3,
   "id": "68f2be4b",
   "metadata": {},
   "outputs": [
    {
     "data": {
      "text/plain": [
       "CNN(\n",
       "  (features): Sequential(\n",
       "    (0): Conv2d(1, 64, kernel_size=(5, 5), stride=(1, 1), padding=(4, 4))\n",
       "    (1): ReLU()\n",
       "    (2): MaxPool2d(kernel_size=2, stride=2, padding=0, dilation=1, ceil_mode=False)\n",
       "    (3): Conv2d(64, 32, kernel_size=(5, 5), stride=(1, 1), padding=(4, 4))\n",
       "    (4): ReLU()\n",
       "    (5): MaxPool2d(kernel_size=2, stride=2, padding=0, dilation=1, ceil_mode=False)\n",
       "    (6): Conv2d(32, 16, kernel_size=(3, 3), stride=(1, 1))\n",
       "    (7): ReLU()\n",
       "    (8): MaxPool2d(kernel_size=2, stride=2, padding=0, dilation=1, ceil_mode=False)\n",
       "  )\n",
       "  (classifier): Sequential(\n",
       "    (0): Linear(in_features=2704, out_features=128, bias=True)\n",
       "    (1): ReLU(inplace=True)\n",
       "    (2): Linear(in_features=128, out_features=30, bias=True)\n",
       "    (3): ReLU(inplace=True)\n",
       "    (4): Linear(in_features=30, out_features=2, bias=True)\n",
       "  )\n",
       ")"
      ]
     },
     "execution_count": 3,
     "metadata": {},
     "output_type": "execute_result"
    }
   ],
   "source": [
    "model"
   ]
  },
  {
   "cell_type": "code",
   "execution_count": 4,
   "id": "1ff84ba5-f4cd-44dd-9918-f9c7b63cce8b",
   "metadata": {},
   "outputs": [],
   "source": [
    "from experiments.cross_validation import CV"
   ]
  },
  {
   "cell_type": "code",
   "execution_count": 8,
   "id": "3e2b7866-6012-4d17-89d8-fb713e42f36a",
   "metadata": {},
   "outputs": [],
   "source": [
    "config = {\n",
    "    \"name\" : \"MUTAG\",\n",
    "    \"model_name\" : \"CNN\",\n",
    "    \"input_size\" : 100,\n",
    "    \"adam_lr\" : 0.01,\n",
    "    \"batchsize\" : 32,\n",
    "    \"num_epoch\" : 10,\n",
    "    \"trial\" : 1, # 1fold に対して何回学習を行うか = 初期重みによるばらつきを削減\n",
    "}"
   ]
  },
  {
   "cell_type": "code",
   "execution_count": null,
   "id": "c9aaff16-448c-4df3-9caa-51c219b92fa1",
   "metadata": {},
   "outputs": [],
   "source": [
    "CV(num_class, dataset, \"./\", )"
   ]
  }
 ],
 "metadata": {
  "kernelspec": {
   "display_name": "Python 3",
   "language": "python",
   "name": "python3"
  },
  "language_info": {
   "codemirror_mode": {
    "name": "ipython",
    "version": 3
   },
   "file_extension": ".py",
   "mimetype": "text/x-python",
   "name": "python",
   "nbconvert_exporter": "python",
   "pygments_lexer": "ipython3",
   "version": "3.8.3"
  }
 },
 "nbformat": 4,
 "nbformat_minor": 5
}
