{
 "cells": [
  {
   "cell_type": "markdown",
   "id": "ae8757a1",
   "metadata": {},
   "source": [
    "# 一連の流れのサンプル\n",
    "\n",
    "- 各種設定\n",
    "- ベストパラメータ探索\n",
    "    - fold out法で学習\n",
    "    - early stopping有\n",
    "    - 3回の平均値を精度とする\n",
    " \n",
    "- ベストパラメータで交差検証"
   ]
  },
  {
   "cell_type": "code",
   "execution_count": 1,
   "id": "a9077617",
   "metadata": {},
   "outputs": [],
   "source": [
    "import sys\n",
    "sys.path.append(\"..\")\n",
    "from data.data_loader import cnn_data_loader_cv\n",
    "from models.set_model import CNN_base, D1D2_base"
   ]
  },
  {
   "cell_type": "code",
   "execution_count": 2,
   "id": "f2432f2a",
   "metadata": {},
   "outputs": [],
   "source": [
    "model = D1D2_base(\"simple\", 4, 100, 10)"
   ]
  },
  {
   "cell_type": "code",
   "execution_count": 3,
   "id": "412b34e4",
   "metadata": {},
   "outputs": [
    {
     "data": {
      "text/plain": [
       "D1D2_model(\n",
       "  (inception): D1D2Conv(\n",
       "    (conv1): Sequential(\n",
       "      (0): Conv2d(1, 10, kernel_size=(3, 3), stride=(1, 1), padding=(1, 1))\n",
       "      (1): ReLU()\n",
       "    )\n",
       "    (conv2): Sequential(\n",
       "      (0): Conv2d(1, 10, kernel_size=(5, 5), stride=(1, 1), padding=(2, 2))\n",
       "      (1): ReLU()\n",
       "    )\n",
       "    (conv3): Sequential(\n",
       "      (0): Conv2d(1, 10, kernel_size=(7, 7), stride=(1, 1), padding=(3, 3))\n",
       "      (1): ReLU()\n",
       "    )\n",
       "    (e2econv): Sequential(\n",
       "      (0): E2EBlock(\n",
       "        (cnn1): Conv2d(1, 10, kernel_size=(1, 100), stride=(1, 1))\n",
       "        (cnn2): Conv2d(1, 10, kernel_size=(100, 1), stride=(1, 1))\n",
       "      )\n",
       "      (1): ReLU()\n",
       "    )\n",
       "    (pool): MaxPool2d(kernel_size=10, stride=10, padding=0, dilation=1, ceil_mode=False)\n",
       "    (softmax): Softmax(dim=0)\n",
       "  )\n",
       "  (classifier): Simple_classifier(\n",
       "    (classifier): Sequential(\n",
       "      (0): Linear(in_features=4000, out_features=4, bias=True)\n",
       "      (1): Softmax(dim=1)\n",
       "    )\n",
       "  )\n",
       ")"
      ]
     },
     "execution_count": 3,
     "metadata": {},
     "output_type": "execute_result"
    }
   ],
   "source": [
    "model"
   ]
  },
  {
   "cell_type": "code",
   "execution_count": 5,
   "id": "9ba85d28",
   "metadata": {},
   "outputs": [],
   "source": [
    "import torch.nn as nn\n",
    "import torch.optim as optim\n",
    "criterion = nn.CrossEntropyLoss()\n",
    "optimizer = optim.Adam(model.parameters(), lr=0.01)"
   ]
  },
  {
   "cell_type": "code",
   "execution_count": 4,
   "id": "cb591980",
   "metadata": {},
   "outputs": [
    {
     "ename": "NameError",
     "evalue": "name 'torch' is not defined",
     "output_type": "error",
     "traceback": [
      "\u001b[0;31m---------------------------------------------------------------------------\u001b[0m",
      "\u001b[0;31mNameError\u001b[0m                                 Traceback (most recent call last)",
      "\u001b[0;32m<ipython-input-4-3b34951ce1a6>\u001b[0m in \u001b[0;36m<module>\u001b[0;34m\u001b[0m\n\u001b[0;32m----> 1\u001b[0;31m \u001b[0mmodel\u001b[0m\u001b[0;34m(\u001b[0m\u001b[0mtorch\u001b[0m\u001b[0;34m.\u001b[0m\u001b[0mones\u001b[0m\u001b[0;34m(\u001b[0m\u001b[0;36m1\u001b[0m\u001b[0;34m,\u001b[0m\u001b[0;36m1\u001b[0m\u001b[0;34m,\u001b[0m\u001b[0;36m100\u001b[0m\u001b[0;34m,\u001b[0m\u001b[0;36m100\u001b[0m\u001b[0;34m)\u001b[0m\u001b[0;34m)\u001b[0m\u001b[0;34m\u001b[0m\u001b[0;34m\u001b[0m\u001b[0m\n\u001b[0m",
      "\u001b[0;31mNameError\u001b[0m: name 'torch' is not defined"
     ]
    }
   ],
   "source": [
    "model(torch.ones(1,1,100,100))"
   ]
  },
  {
   "cell_type": "code",
   "execution_count": 6,
   "id": "77de7aaa",
   "metadata": {},
   "outputs": [
    {
     "data": {
      "text/plain": [
       "tensor([[0.2512, 0.2507, 0.2525, 0.2457]], grad_fn=<SoftmaxBackward>)"
      ]
     },
     "execution_count": 6,
     "metadata": {},
     "output_type": "execute_result"
    }
   ],
   "source": [
    "import torch\n",
    "model(torch.ones(1,1,100,100))"
   ]
  },
  {
   "cell_type": "code",
   "execution_count": 16,
   "id": "e207de57",
   "metadata": {},
   "outputs": [
    {
     "data": {
      "text/plain": [
       "tensor(0.7045, grad_fn=<NllLossBackward>)"
      ]
     },
     "execution_count": 16,
     "metadata": {},
     "output_type": "execute_result"
    }
   ],
   "source": [
    "loss = criterion(out, torch.tensor([1]))\n",
    "loss"
   ]
  },
  {
   "cell_type": "code",
   "execution_count": 21,
   "id": "c3114357",
   "metadata": {},
   "outputs": [],
   "source": [
    "import os\n",
    "os.makedirs(\"sample\", exist_ok=True)"
   ]
  },
  {
   "cell_type": "code",
   "execution_count": null,
   "id": "2424935d",
   "metadata": {},
   "outputs": [],
   "source": [
    "loss = criterion(outputs, labels)"
   ]
  },
  {
   "cell_type": "code",
   "execution_count": 4,
   "id": "4a81b80b",
   "metadata": {},
   "outputs": [],
   "source": [
    "from experiments.cross_validation import CV"
   ]
  },
  {
   "cell_type": "code",
   "execution_count": 10,
   "id": "d354b741",
   "metadata": {},
   "outputs": [],
   "source": [
    "config = {\n",
    "    \"name\" : \"MUTAG\",\n",
    "    \"model_name\" : \"CNN\",\n",
    "    \"input_size\" : 100,\n",
    "    \"adam_lr\" : 0.01,\n",
    "    \"batchsize\" : 32,\n",
    "    \"num_epoch\" : 10,\n",
    "    \"trial\" : 1, # 1fold に対して何回学習を行うか = 初期重みによるばらつきを削減\n",
    "    \"save_dir\" : \"./\"\n",
    "}"
   ]
  },
  {
   "cell_type": "code",
   "execution_count": 9,
   "id": "4eca38e1",
   "metadata": {},
   "outputs": [
    {
     "ename": "AttributeError",
     "evalue": "'dict' object has no attribute 'model_name'",
     "output_type": "error",
     "traceback": [
      "\u001b[0;31m---------------------------------------------------------------------------\u001b[0m",
      "\u001b[0;31mAttributeError\u001b[0m                            Traceback (most recent call last)",
      "\u001b[0;32m<ipython-input-9-4142d9974f60>\u001b[0m in \u001b[0;36m<module>\u001b[0;34m\u001b[0m\n\u001b[0;32m----> 1\u001b[0;31m \u001b[0mCV\u001b[0m\u001b[0;34m(\u001b[0m\u001b[0mnum_class\u001b[0m\u001b[0;34m,\u001b[0m \u001b[0mdataset\u001b[0m\u001b[0;34m,\u001b[0m \u001b[0;34m\"./sample\"\u001b[0m\u001b[0;34m,\u001b[0m \u001b[0mconfig\u001b[0m\u001b[0;34m)\u001b[0m\u001b[0;34m\u001b[0m\u001b[0;34m\u001b[0m\u001b[0m\n\u001b[0m",
      "\u001b[0;32m~/tanoue/CNN_GNN_classification/experiments/cross_validation.py\u001b[0m in \u001b[0;36mCV\u001b[0;34m(num_class, dataset, save_dir, config)\u001b[0m\n\u001b[1;32m     82\u001b[0m     \u001b[0;32mfor\u001b[0m \u001b[0mfold_idx\u001b[0m\u001b[0;34m,\u001b[0m \u001b[0;34m(\u001b[0m\u001b[0mtrain_idx\u001b[0m\u001b[0;34m,\u001b[0m \u001b[0mvalid_idx\u001b[0m\u001b[0;34m)\u001b[0m \u001b[0;32min\u001b[0m \u001b[0menumerate\u001b[0m\u001b[0;34m(\u001b[0m\u001b[0mfold\u001b[0m\u001b[0;34m.\u001b[0m\u001b[0msplit\u001b[0m\u001b[0;34m(\u001b[0m\u001b[0mdataset\u001b[0m\u001b[0;34m)\u001b[0m\u001b[0;34m)\u001b[0m\u001b[0;34m:\u001b[0m\u001b[0;34m\u001b[0m\u001b[0;34m\u001b[0m\u001b[0m\n\u001b[1;32m     83\u001b[0m         \u001b[0;31m# モデルを構築\u001b[0m\u001b[0;34m\u001b[0m\u001b[0;34m\u001b[0m\u001b[0;34m\u001b[0m\u001b[0m\n\u001b[0;32m---> 84\u001b[0;31m         \u001b[0;32mif\u001b[0m \u001b[0mconfig\u001b[0m\u001b[0;34m.\u001b[0m\u001b[0mmodel_name\u001b[0m \u001b[0;32min\u001b[0m \u001b[0;34m[\u001b[0m\u001b[0;34m\"CNN\"\u001b[0m\u001b[0;34m,\u001b[0m \u001b[0;34m\"BrainNetCNN\"\u001b[0m\u001b[0;34m]\u001b[0m\u001b[0;34m:\u001b[0m\u001b[0;34m\u001b[0m\u001b[0;34m\u001b[0m\u001b[0m\n\u001b[0m\u001b[1;32m     85\u001b[0m             \u001b[0mmodel\u001b[0m \u001b[0;34m=\u001b[0m \u001b[0mCNN_base\u001b[0m\u001b[0;34m(\u001b[0m\u001b[0mconfig\u001b[0m\u001b[0;34m.\u001b[0m\u001b[0mmodel_name\u001b[0m\u001b[0;34m,\u001b[0m \u001b[0mnum_class\u001b[0m\u001b[0;34m,\u001b[0m \u001b[0mconfig\u001b[0m\u001b[0;34m.\u001b[0m\u001b[0minput_size\u001b[0m\u001b[0;34m)\u001b[0m\u001b[0;34m\u001b[0m\u001b[0;34m\u001b[0m\u001b[0m\n\u001b[1;32m     86\u001b[0m         \u001b[0;32melse\u001b[0m\u001b[0;34m:\u001b[0m\u001b[0;34m\u001b[0m\u001b[0;34m\u001b[0m\u001b[0m\n",
      "\u001b[0;31mAttributeError\u001b[0m: 'dict' object has no attribute 'model_name'"
     ]
    }
   ],
   "source": [
    "CV(num_class, dataset, \"./sample\", config)"
   ]
  },
  {
   "cell_type": "code",
   "execution_count": null,
   "id": "af51883c",
   "metadata": {},
   "outputs": [],
   "source": []
  }
 ],
 "metadata": {
  "kernelspec": {
   "display_name": "Python 3",
   "language": "python",
   "name": "python3"
  },
  "language_info": {
   "codemirror_mode": {
    "name": "ipython",
    "version": 3
   },
   "file_extension": ".py",
   "mimetype": "text/x-python",
   "name": "python",
   "nbconvert_exporter": "python",
   "pygments_lexer": "ipython3",
   "version": "3.8.8"
  }
 },
 "nbformat": 4,
 "nbformat_minor": 5
}
